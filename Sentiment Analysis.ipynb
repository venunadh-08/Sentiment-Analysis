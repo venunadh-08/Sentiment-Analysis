{
 "cells": [
  {
   "cell_type": "code",
   "execution_count": 1,
   "id": "2c293701-794c-4a08-87a6-fb4e761781f1",
   "metadata": {},
   "outputs": [
    {
     "name": "stderr",
     "output_type": "stream",
     "text": [
      "[nltk_data] Downloading package stopwords to\n",
      "[nltk_data]     C:\\Users\\Anirudh\\AppData\\Roaming\\nltk_data...\n",
      "[nltk_data]   Package stopwords is already up-to-date!\n"
     ]
    },
    {
     "name": "stdout",
     "output_type": "stream",
     "text": [
      "<class 'pandas.core.frame.DataFrame'>\n",
      "Index: 61691 entries, 0 to 74680\n",
      "Data columns (total 4 columns):\n",
      " #   Column       Non-Null Count  Dtype \n",
      "---  ------       --------------  ----- \n",
      " 0   Id           61691 non-null  int64 \n",
      " 1   Borderlands  61691 non-null  object\n",
      " 2   Label        61691 non-null  object\n",
      " 3   Content      61120 non-null  object\n",
      "dtypes: int64(1), object(3)\n",
      "memory usage: 2.4+ MB\n",
      "<class 'pandas.core.frame.DataFrame'>\n",
      "Index: 61120 entries, 0 to 74680\n",
      "Data columns (total 4 columns):\n",
      " #   Column       Non-Null Count  Dtype \n",
      "---  ------       --------------  ----- \n",
      " 0   Id           61120 non-null  int64 \n",
      " 1   Borderlands  61120 non-null  object\n",
      " 2   Label        61120 non-null  object\n",
      " 3   Content      61120 non-null  object\n",
      "dtypes: int64(1), object(3)\n",
      "memory usage: 2.3+ MB\n",
      "              precision    recall  f1-score   support\n",
      "\n",
      "    Negative       0.88      0.88      0.88      6786\n",
      "     Neutral       0.89      0.82      0.85      5308\n",
      "    Positive       0.83      0.89      0.86      6242\n",
      "\n",
      "    accuracy                           0.87     18336\n",
      "   macro avg       0.87      0.86      0.87     18336\n",
      "weighted avg       0.87      0.87      0.87     18336\n",
      "\n",
      "0.8663830715532286\n"
     ]
    },
    {
     "data": {
      "image/png": "[encoded data removed]",
      "text/plain": [
       "<Figure size 640x480 with 1 Axes>"
      ]
     },
     "metadata": {},
     "output_type": "display_data"
    }
   ],
   "source": [
    "import pandas as pd\n",
    "import matplotlib.pyplot as plt\n",
    "import seaborn as sns\n",
    "%matplotlib inline\n",
    "\n",
    "import nltk\n",
    "nltk.download('stopwords')\n",
    "\n",
    "df = pd.read_csv('twitter_training.csv/twitter_training.csv')\n",
    "df.head()\n",
    "\n",
    "df.rename(columns={'Positive':'Label','im getting on borderlands and i will murder you all ,':'Content','2401':'Id'},inplace=True)\n",
    "\n",
    "df = df[df['Label'] != 'Irrelevant']\n",
    "\n",
    "df.info()\n",
    "\n",
    "df['Label'].describe()\n",
    "\n",
    "sns.heatmap(df.isnull(),yticklabels=False,cbar=False)\n",
    "\n",
    "df.dropna(axis=0,inplace=True)\n",
    "\n",
    "df.info()\n",
    "df.head()\n",
    "\n",
    "from sklearn.feature_extraction.text import CountVectorizer,TfidfVectorizer\n",
    "from sklearn.model_selection import train_test_split\n",
    "\n",
    "from sklearn.metrics import classification_report, accuracy_score\n",
    "\n",
    "cv = CountVectorizer()\n",
    "\n",
    "X = df['Content']\n",
    "y = df['Label']\n",
    "\n",
    "X = cv.fit_transform(X)\n",
    "\n",
    "X_train, X_test, y_train, y_test = train_test_split(X, y,test_size=0.3,random_state=101)\n",
    "\n",
    "from sklearn.linear_model import LogisticRegression\n",
    "\n",
    "lg = LogisticRegression(max_iter=1000)\n",
    "\n",
    "lg.fit(X_train, y_train)\n",
    "\n",
    "pred1 = lg.predict(X_test)\n",
    "\n",
    "print(classification_report(y_test, pred1))\n",
    "print(accuracy_score(y_test, pred1))\n",
    "\n",
    "def predict_sentiment(message):\n",
    "    message_vec = cv.transform([message])\n",
    "    \n",
    "    prediction = lg.predict(message_vec)\n",
    "    \n",
    "    return prediction[0]"
   ]
  }
 ],
 "metadata": {
  "kernelspec": {
   "display_name": "base",
   "language": "python",
   "name": "python3"
  },
  "language_info": {
   "codemirror_mode": {
    "name": "ipython",
    "version": 3
   },
   "file_extension": ".py",
   "mimetype": "text/x-python",
   "name": "python",
   "nbconvert_exporter": "python",
   "pygments_lexer": "ipython3",
   "version": "3.12.7"
  }
 },
 "nbformat": 4,
 "nbformat_minor": 5
}
